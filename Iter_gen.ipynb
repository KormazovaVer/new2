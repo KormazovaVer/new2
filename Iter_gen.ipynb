{
  "nbformat": 4,
  "nbformat_minor": 0,
  "metadata": {
    "colab": {
      "name": "Iter_gen.ipynb",
      "provenance": [],
      "authorship_tag": "ABX9TyOq7fv5v/K5QfD5ZM2q11aa",
      "include_colab_link": true
    },
    "kernelspec": {
      "name": "python3",
      "display_name": "Python 3"
    },
    "language_info": {
      "name": "python"
    }
  },
  "cells": [
    {
      "cell_type": "markdown",
      "metadata": {
        "id": "view-in-github",
        "colab_type": "text"
      },
      "source": [
        "<a href=\"https://colab.research.google.com/github/KormazovaVer/new2/blob/main/Iter_gen.ipynb\" target=\"_parent\"><img src=\"https://colab.research.google.com/assets/colab-badge.svg\" alt=\"Open In Colab\"/></a>"
      ]
    },
    {
      "cell_type": "code",
      "execution_count": 13,
      "metadata": {
        "colab": {
          "base_uri": "https://localhost:8080/"
        },
        "id": "EqG7Q9Vltcwl",
        "outputId": "a2761694-5838-4b3b-8e26-423d6f9020c0"
      },
      "outputs": [
        {
          "output_type": "stream",
          "name": "stdout",
          "text": [
            "********************\n",
            "Вызов итератора\n",
            "a\n",
            "b\n",
            "c\n",
            "d\n",
            "e\n",
            "f\n",
            "h\n",
            "False\n",
            "1\n",
            "2\n",
            "None\n",
            "********************\n",
            "\n",
            "**************************************************\n",
            "Вызов компрехеншен\n",
            "['a', 'b', 'c', 'd', 'e', 'f', 'h', False, 1, 2, None]\n",
            "**************************************************\n"
          ]
        }
      ],
      "source": [
        "\n",
        "nested_list = [\n",
        "        ['a', 'b', 'c'],\n",
        "        ['d', 'e', 'f', 'h', False],\n",
        "        [1, 2, None],\n",
        "]\n",
        "\n",
        "class FlatIterator:\n",
        "\n",
        "    def __init__(self, some_list):\n",
        "       self.some_list = some_list\n",
        "\n",
        "    def __iter__(self):\n",
        "        self.list_iter = iter(self.some_list)  \n",
        "        self.nested_list = []  \n",
        "        self.cursor = -1 \n",
        "        return self\n",
        "\n",
        "    def __next__(self):\n",
        "        self.cursor += 1\n",
        "        if len(self.nested_list) == self.cursor:  \n",
        "            self.nested_list = None\n",
        "            self.cursor = 0\n",
        "            while not self.nested_list:  \n",
        "                self.nested_list = next(self.list_iter)  \n",
        "        return self.nested_list[self.cursor]\n",
        "\n",
        "if __name__ == '__main__':\n",
        "\n",
        "   \n",
        "    print('*' * 20)\n",
        "    print('Вызов итератора')\n",
        "    for item in FlatIterator(nested_list):\n",
        "       print(item)\n",
        "    print('*' * 20)\n",
        "    print()\n",
        "    print('*' * 50)\n",
        "    print('Вызов компрехеншен')\n",
        "    flat_list = [item for item in FlatIterator(nested_list)]\n",
        "    print(flat_list)\n",
        "    print('*' * 50)"
      ]
    },
    {
      "cell_type": "code",
      "source": [
        "nested_list = [\n",
        "        ['a', 'b', 'c'],\n",
        "        ['d', 'e', 'f', 'h', False],\n",
        "        [1, 2, None],\n",
        "]\n",
        "def flat_generator(nested_list):\n",
        "    for substring_list in nested_list:\n",
        "        for elem in substring_list:\n",
        "            yield elem\n",
        "\n",
        "print('*' * 20) \n",
        "print('Вызов генератора')\n",
        "for item in flat_generator(nested_list):\n",
        "   print(item)\n",
        "print('*' * 20)            \n",
        "print()\n",
        "print('*' * 50)\n",
        "print('Вызов компрехеншен')\n",
        "flat_list = [item for item in flat_generator(nested_list)]\n",
        "print(flat_list)\n",
        "print('*' * 50)"
      ],
      "metadata": {
        "colab": {
          "base_uri": "https://localhost:8080/"
        },
        "id": "QWyaoHrA5VCf",
        "outputId": "aaeaeec5-bfb2-40d2-9ff3-b427bb89bad3"
      },
      "execution_count": null,
      "outputs": [
        {
          "output_type": "stream",
          "name": "stdout",
          "text": [
            "********************\n",
            "Вызов генератора\n",
            "a\n",
            "b\n",
            "c\n",
            "d\n",
            "e\n",
            "f\n",
            "h\n",
            "False\n",
            "1\n",
            "2\n",
            "None\n",
            "********************\n",
            "\n",
            "**************************************************\n",
            "Вызов компрехеншен\n",
            "['a', 'b', 'c', 'd', 'e', 'f', 'h', False, 1, 2, None]\n",
            "**************************************************\n"
          ]
        }
      ]
    }
  ]
}